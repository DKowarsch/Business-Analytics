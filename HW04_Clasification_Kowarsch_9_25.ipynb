{
 "cells": [
  {
   "cell_type": "markdown",
   "metadata": {
    "id": "MKsRDH5ZUdfasdv"
   },
   "source": [
    "# Lab 4"
   ]
  },
  {
   "cell_type": "markdown",
   "metadata": {},
   "source": [
    "### <span style=\"color:chocolate\"> Submission requirements </span>\n",
    "\n",
    "Additional points may be deducted if these requirements are not met:\n",
    "    \n",
    "* Comment your code\n",
    "* Each graph should have a title, labels for each axis, and (if needed) a legend. Each graph should be understandable on its own\n",
    "* Be sure your submitted notebook includes the output of your run (Hint: go to Kernel -> Restart Kernel and Run All Cells...)\n",
    "* Try and minimize the use of the global namespace (meaning, keep things inside functions)\n",
    "* Upload your .ipynb file to Gradescope when done\n",
    "---"
   ]
  },
  {
   "cell_type": "markdown",
   "metadata": {
    "id": "43534tdfgs-v"
   },
   "source": [
    "In this lab we will train classifiers for images using [logistic regression](https://en.wikipedia.org/wiki/Logistic_regression) and Tensorflow."
   ]
  },
  {
   "cell_type": "code",
   "execution_count": 1,
   "metadata": {
    "id": "7X58hOMTUH-w"
   },
   "outputs": [],
   "source": [
    "# Import the libraries we'll use below.\n",
    "import numpy as np\n",
    "from matplotlib import pyplot as plt\n",
    "import pandas as pd\n",
    "import seaborn as sns  # for nicer plots\n",
    "sns.set(style=\"darkgrid\")  # default style\n",
    "\n",
    "import tensorflow as tf\n",
    "from tensorflow import keras\n",
    "from keras import metrics\n",
    "tf.get_logger().setLevel('INFO')"
   ]
  },
  {
   "cell_type": "markdown",
   "metadata": {
    "id": "rHLcriKWLRe4"
   },
   "source": [
    "## Understanding the data\n",
    "We'll train models on the [Fashion MNIST](https://github.com/zalandoresearch/fashion-mnist) dataset. This consists of 70,000 grayscale images (28x28). Each image is associated with 1 of 10 classes. The dataset was split by the creators; there are 60,000 training images and 10,000 test images. \n",
    "\n",
    "Fashion MNIST classes:\n",
    "* T-shirt/top\n",
    "* Trouser\n",
    "* Pullover\n",
    "* Dress\n",
    "* Coat\n",
    "* Sandal\n",
    "* Shirt\n",
    "* Sneaker\n",
    "* Bag\n",
    "* Ankle boot\n",
    "\n",
    "Before doing any training (or evaluating), let's make sure we understand what we're working with. "
   ]
  },
  {
   "cell_type": "markdown",
   "metadata": {
    "id": "load_auto_data_set_text"
   },
   "source": [
    "### Load the data\n",
    "Tensorflow includes a growing [library of datasets](https://www.tensorflow.org/datasets/catalog/overview) and makes it easy to load them in numpy arrays."
   ]
  },
  {
   "cell_type": "code",
   "execution_count": 2,
   "metadata": {
    "id": "load_auto_data_set_code"
   },
   "outputs": [],
   "source": [
    "from keras.datasets import fashion_mnist\n",
    "\n",
    "# Load the Fashion MNIST dataset.\n",
    "(X_train, Y_train), (X_test, Y_test) = fashion_mnist.load_data()\n",
    "\n",
    "# Flatten Y_train and Y_test, so they become vectors of label values.\n",
    "# The label for X_train[0] is in Y_train[0].\n",
    "Y_train = Y_train.flatten()\n",
    "Y_test = Y_test.flatten()"
   ]
  },
  {
   "cell_type": "markdown",
   "metadata": {
    "id": "Eg9mUz9zcIil"
   },
   "source": [
    "### Basic Analysis\n",
    "Notice that `X_train`, `Y_train`, `X_test`, and `Y_test` are all numpy arrays. Let's print their shapes to confirm."
   ]
  },
  {
   "cell_type": "code",
   "execution_count": 3,
   "metadata": {
    "id": "H6jGmsYAdKEK"
   },
   "outputs": [
    {
     "name": "stdout",
     "output_type": "stream",
     "text": [
      "X_train.shape: (60000, 28, 28)\n",
      "Y_train.shape: (60000,)\n",
      "X_test.shape: (10000, 28, 28)\n",
      "Y_test.shape: (10000,)\n"
     ]
    }
   ],
   "source": [
    "print(\"X_train.shape:\", X_train.shape)\n",
    "print(\"Y_train.shape:\", Y_train.shape)\n",
    "print(\"X_test.shape:\", X_test.shape)\n",
    "print(\"Y_test.shape:\", Y_test.shape)"
   ]
  },
  {
   "cell_type": "markdown",
   "metadata": {
    "id": "fDeim44-dler"
   },
   "source": [
    "Notice that there are 60,000 instances in `X_train`. Each of these is a grayscale image represented by an 28-by-28 array of grayscale pixel values between 0 and 255 (the larger the value, the lighter the pixel). Before we continue, let's apply linear scaling to our pixel values, so they all fall between 0 and 1."
   ]
  },
  {
   "cell_type": "code",
   "execution_count": 4,
   "metadata": {
    "id": "wXukkWBWdlGj"
   },
   "outputs": [],
   "source": [
    "# Pixel values range from 0 to 255. To normalize the data, \n",
    "# we just need to divide all values by 255.\n",
    "X_train = X_train / 255\n",
    "X_test = X_test / 255"
   ]
  },
  {
   "cell_type": "markdown",
   "metadata": {
    "id": "oWsOQ3tbCOA7"
   },
   "source": [
    "In the previous lab, our input data had just a few features. Here, we treat **every pixel value as a separate feature**, so each input example has 28x28 (784) features!\n",
    "\n",
    "Fashion MNIST images have one of 10 possible labels (shown above). Since the labels are indices 0-9, let's keep a list of (string) names for convenience."
   ]
  },
  {
   "cell_type": "code",
   "execution_count": 5,
   "metadata": {
    "id": "cZpFxxStzSrP"
   },
   "outputs": [],
   "source": [
    "label_names = ['t-shirt', 'trouser', 'pullover', 'dress', 'coat',\n",
    "               'sandal', 'shirt', 'sneaker', 'bag', 'ankle boot']"
   ]
  },
  {
   "cell_type": "markdown",
   "metadata": {
    "id": "c5aXeK2VznCW"
   },
   "source": [
    "Next let's use the `imshow` function to look at the first few images in the training set."
   ]
  },
  {
   "cell_type": "code",
   "execution_count": 6,
   "metadata": {
    "id": "7mfV9b4I7cMW"
   },
   "outputs": [
    {
     "data": {
      "image/png": "[encoded data removed]",
      "text/plain": [
       "<Figure size 720x360 with 5 Axes>"
      ]
     },
     "metadata": {},
     "output_type": "display_data"
    }
   ],
   "source": [
    "# Create a figure with subplots. This returns a list of object handles in axs\n",
    "# which we can use to populate the plots.\n",
    "fig, axs = plt.subplots(nrows=1, ncols=5, figsize=(10,5))\n",
    "for i in range(5):\n",
    "  image = X_train[i]\n",
    "  label = Y_train[i]\n",
    "  label_name = label_names[label]\n",
    "  axs[i].imshow(image, cmap='gray')\n",
    "  axs[i].set_title(label_name)\n",
    "  axs[i].axis('off')\n",
    "plt.show()"
   ]
  },
  {
   "cell_type": "markdown",
   "metadata": {
    "id": "aFx7Ts3b6N6d"
   },
   "source": [
    "---\n",
    "### Exercise 1 (8 points)\n",
    "\n",
    "Display the first 5 images for each class in a 10x5 grid."
   ]
  },
  {
   "cell_type": "code",
   "execution_count": 7,
   "metadata": {
    "id": "HJtwrjdO6TbS"
   },
   "outputs": [
    {
     "data": {
      "image/png": "[encoded data removed]",
      "text/plain": [
       "<Figure size 1080x1440 with 50 Axes>"
      ]
     },
     "metadata": {},
     "output_type": "display_data"
    }
   ],
   "source": [
    "# YOUR CODE HERE\n",
    "\n",
    "# Create a dictionary to store the indices of the first 5 images for each class\n",
    "class_indices = {i: [] for i in range(10)}\n",
    "\n",
    "# Find the indices of the first 5 images for each class\n",
    "for i, label in enumerate(Y_train):\n",
    "    if len(class_indices[label]) < 5:\n",
    "        class_indices[label].append(i)\n",
    "\n",
    "# Create a 10x5 grid of subplots to display the images\n",
    "fig, axs = plt.subplots(10, 5, figsize=(15, 20))\n",
    "\n",
    "# Loop through each class and display the first 5 images\n",
    "for i in range(10):\n",
    "    for j in range(5):\n",
    "        index = class_indices[i][j]\n",
    "        image = X_train[index]\n",
    "        axs[i, j].imshow(image, cmap='gray')\n",
    "        axs[i, j].axis('off')\n",
    "        axs[i, j].set_title(label_names[i])\n",
    "\n",
    "plt.tight_layout()\n",
    "plt.show()\n"
   ]
  },
  {
   "cell_type": "markdown",
   "metadata": {
    "id": "xxOhpvdW6TbX"
   },
   "source": [
    "---"
   ]
  },
  {
   "cell_type": "markdown",
   "metadata": {
    "id": "qNvSx5tybqMR"
   },
   "source": [
    "## Sneaker Classification\n",
    "There are many things we can do with this dataset. Following our lectures, let's start with binary classification. We'll train a sneaker classifier, using sneaker images (class 7) as our positive examples ($y=1$) and all other images as negative examples ($y=0$).\n",
    "\n",
    "Once we've trained a model, it will produce predictions $\\hat{y}$, the probability that an input image $x$ is a sneaker."
   ]
  },
  {
   "cell_type": "markdown",
   "metadata": {
    "id": "DvcJJ_rUifF2"
   },
   "source": [
    "### Data Preprocessing\n",
    "Before we continue, we need to prepare the data for our binary classification task. The label for all the sneaker images should be 1 and the label for all the non-sneaker images should be 0. \n",
    "\n",
    "Programming note: Numpy allows us to perform what is called [boolean array indexing](https://docs.scipy.org/doc/numpy/reference/arrays.indexing.html#boolean-array-indexing).\n",
    "This means that a numpy array $A$ can be be modified according to boolean conditions in a matching sized array $B$ \n",
    "as follows: $A[B]$.\n",
    "We use this indexing to efficiently set our binary labels below."
   ]
  },
  {
   "cell_type": "code",
   "execution_count": 8,
   "metadata": {
    "id": "3webN4USifuB"
   },
   "outputs": [],
   "source": [
    "# Make copies of the original dataset for binary classification task.\n",
    "X_train_binary = np.copy(X_train)\n",
    "X_test_binary = np.copy(X_test)\n",
    "Y_train_binary = np.copy(Y_train)\n",
    "Y_test_binary = np.copy(Y_test)\n",
    "\n",
    "# Set labels: 1 for sneaker images, 0 for the others.\n",
    "# Note that a boolean array is created when Y_train_binary != 7 is evaluated.\n",
    "Y_train_binary[Y_train_binary != 7] = 0.0 \n",
    "Y_train_binary[Y_train_binary == 7] = 1.0\n",
    "Y_test_binary[Y_test_binary != 7] = 0.0\n",
    "Y_test_binary[Y_test_binary == 7] = 1.0"
   ]
  },
  {
   "cell_type": "markdown",
   "metadata": {
    "id": "84idQ2_Mm8w-"
   },
   "source": [
    "---\n",
    "### Exercise 2 (8 points)"
   ]
  },
  {
   "cell_type": "markdown",
   "metadata": {},
   "source": [
    "\n",
    "Before training any models, let's work some more with our raw feature values, comparing sneaker and non-sneaker images.\n",
    "\n",
    "1. Find all sneaker images in `X_train_binary` and compute the mean and standard deviation of the center pixel across all sneaker images. The center pixel is located at position [14, 14].\n",
    "\n",
    "2.   Find all non-sneaker images in `X_train_binary` and compute the mean and standard deviation of the center pixel  across all non-sneaker images. The center pixel is located at position [14, 14].\n",
    "\n",
    "3. Repeat 1 and 2 for the pixel located at positon [3, 14].\n",
    "\n",
    "4. Based on your results, do you think there is some evidence that suggests that we can use pixel values to discriminate between sneaker and non-sneaker images? Justify your answer."
   ]
  },
  {
   "cell_type": "code",
   "execution_count": 9,
   "metadata": {},
   "outputs": [
    {
     "name": "stdout",
     "output_type": "stream",
     "text": [
      "1.1 Mean of the center pixel of sneakers (Position 1): 0.628\n",
      "1.2 Standard Deviation of the center pixel of sneakers (Position 1): 0.242\n",
      "\n",
      "2.1 Mean of the non-sneaker's center pixel (Position 1): 0.537\n",
      "2.2 Standard Deviation of the non-sneaker's center pixel (Position 1): 0.315\n",
      "\n",
      "3.1 Mean of the center pixel of sneakers (Position 2): 0.001\n",
      "3.2 Standard Deviation of the center pixel of sneakers (Position 2): 0.028\n",
      "\n",
      "3.3 Mean of the non-sneaker's center pixel (Position 2): 0.464\n",
      "3.4 Standard Deviation of the non-sneaker's center pixel (Position 2): 0.368\n"
     ]
    }
   ],
   "source": [
    "# YOUR CODE HERE (1-3)\n",
    "# Define sneakers and others\n",
    "\n",
    "def calculate_center_pixel_stats(images, center_position):\n",
    "    # Extract center pixel values from all images\n",
    "    center_pixel_values = images[:, center_position[0], center_position[1]]\n",
    "\n",
    "    # Calculate mean and standard deviation\n",
    "    mean_center_pixel = np.mean(center_pixel_values)\n",
    "    std_dev_center_pixel = np.std(center_pixel_values)\n",
    "\n",
    "    return mean_center_pixel, std_dev_center_pixel\n",
    "\n",
    "# Define the center pixel positions\n",
    "center_position_1 = (14, 14)\n",
    "center_position_2 = (3, 14)\n",
    "\n",
    "# Define sneakers and others\n",
    "sneaker = X_train_binary[Y_train_binary == 1]\n",
    "others = X_train_binary[Y_train_binary == 0]\n",
    "\n",
    "# Calculate statistics for sneakers\n",
    "mean_center_1_sneaker, std_dev_center_1_sneaker = calculate_center_pixel_stats(sneaker, center_position_1)\n",
    "mean_center_2_sneaker, std_dev_center_2_sneaker = calculate_center_pixel_stats(sneaker, center_position_2)\n",
    "\n",
    "# Calculate statistics for non-sneakers\n",
    "mean_center_1_others, std_dev_center_1_others = calculate_center_pixel_stats(others, center_position_1)\n",
    "mean_center_2_others, std_dev_center_2_others = calculate_center_pixel_stats(others, center_position_2)\n",
    "\n",
    "# Print the results\n",
    "print(\"1.1 Mean of the center pixel of sneakers (Position 1):\", round(mean_center_1_sneaker, 3))\n",
    "print(\"1.2 Standard Deviation of the center pixel of sneakers (Position 1):\", round(std_dev_center_1_sneaker, 3))\n",
    "print()\n",
    "print(\"2.1 Mean of the non-sneaker's center pixel (Position 1):\", round(mean_center_1_others, 3))\n",
    "print(\"2.2 Standard Deviation of the non-sneaker's center pixel (Position 1):\", round(std_dev_center_1_others, 3))\n",
    "print()\n",
    "print(\"3.1 Mean of the center pixel of sneakers (Position 2):\", round(mean_center_2_sneaker, 3))\n",
    "print(\"3.2 Standard Deviation of the center pixel of sneakers (Position 2):\", round(std_dev_center_2_sneaker, 3))\n",
    "print()\n",
    "print(\"3.3 Mean of the non-sneaker's center pixel (Position 2):\", round(mean_center_2_others, 3))\n",
    "print(\"3.4 Standard Deviation of the non-sneaker's center pixel (Position 2):\", round(std_dev_center_2_others, 3))\n"
   ]
  },
  {
   "cell_type": "markdown",
   "metadata": {},
   "source": [
    "**Answer**\n",
    "The mean and standard deviation of the center pixel values for sneakers at position 1 are 0.63 and 0.24, respectively. For non-sneakers at the same position, the mean and standard deviation are 0.54 and 0.35. The results show that using center pixel values unlikely make good predictions due to indifferenciations between sneaker and others.   \n",
    "\n",
    "But, when using non center pixcel, such as [3,14], the means and standard deviations for the sneakers and non-sneakers images are different. These distinct values suggest the potential for discrimination between sneakers and non-sneakers using these pixel values. \n",
    "\n",
    "Moreover, as the position changes, these differences tend to amplify, reinforcing the idea that pixel values for sneakers are consistently distinguishable from those of non-sneakers."
   ]
  },
  {
   "cell_type": "markdown",
   "metadata": {
    "id": "D35qqLaPd1jk"
   },
   "source": [
    "---"
   ]
  },
  {
   "cell_type": "markdown",
   "metadata": {
    "id": "br_TAXD7p5gQ"
   },
   "source": [
    "### Data Shuffling\n",
    "Just like in the previous lab, we'll be using SGD (Stochastic Gradient Descent) for training. This means that it is important that **each batch is a random sample of the data**.\n",
    "\n",
    "This time we can use [integer array indexing](https://numpy.org/doc/stable/reference/arrays.indexing.html#integer-array-indexing) to re-order the data and labels using a list of shuffled indices."
   ]
  },
  {
   "cell_type": "code",
   "execution_count": 10,
   "metadata": {
    "id": "sNryj_kGq8vV"
   },
   "outputs": [],
   "source": [
    "np.random.seed(0) # For reproducibility\n",
    "\n",
    "indices = np.arange(X_train_binary.shape[0])\n",
    "shuffled_indices = np.random.permutation(indices)\n",
    "\n",
    "# Re-order training examples and corresponding labels using the randomly\n",
    "# shuffled indices.\n",
    "X_train_binary = X_train_binary[shuffled_indices]\n",
    "Y_train_binary = Y_train_binary[shuffled_indices]"
   ]
  },
  {
   "cell_type": "markdown",
   "metadata": {
    "id": "E01QY9SRpwPE"
   },
   "source": [
    "## Logistic Regression\n",
    "\n",
    "Recall that logistic regression is an application of the logistic (sigmoid) function to the linear regression model:\n",
    "\n",
    "\\begin{equation}\n",
    "y=\\frac{1}{1+e^{-z}} \n",
    "\\end{equation}\n",
    "\n",
    "<center>\n",
    "<img src=\"https://developers.google.com/machine-learning/crash-course/images/SigmoidFunction.png\" alt=\"Sigmoid Function\" width=\"45%\"/>\n",
    "</center>\n",
    "\n",
    "where:\n",
    "\n",
    "\\begin{equation}\n",
    "z = b + w_1x_1 + w_2x_2 + ... + w_nx_n\n",
    "\\end{equation}\n",
    "\n",
    "As you can see, the output $y$ is in the range $[0,1]$, the probability of the positive class. If we want a label (instead of a probability), we need to choose a threshold, like $0.5$. A value above or equal to that threshold indicates that the input should be classified as positive (e.g., sneaker); a value below the threshold indicates that the input should be classified as negative (e.g. non-sneaker)."
   ]
  },
  {
   "cell_type": "markdown",
   "metadata": {
    "id": "PsfzNnVFwh0K"
   },
   "source": [
    "### Loss Function\n",
    "\n",
    "In place of MSE, which we used for linear regression, we need a loss function for logistic regression that's appropriate for classification. The *Log Loss* (also known as *binary cross-entropy*), is defined as follows:\n",
    "\n",
    "\\begin{equation}\n",
    "-\\frac{1}{|Y|} \\sum_{y_i \\in Y}y_i log(\\hat{y}_i) + (1−y_i)log(1−\\hat{y}_i)\n",
    "\\end{equation}\n",
    "\n",
    "Recall that $y_i$ is the label for example $i$ and $\\hat{y_i}$ is the predicted probability (of the positive class) for example $i$. Note that only the first term in the sum is active for positive examples (the second term is 0 when $y_i = 1$) and only the second term in the sum is active for negative examples (the first term is 0 when $y_i = 0$).\n",
    "\n",
    "The log loss is differentiable, allowing us to compute gradients and run SGD. It also happens to be convex, which guarantees that SGD (with a suitable learning rate) will produce a global minimum."
   ]
  },
  {
   "cell_type": "markdown",
   "metadata": {
    "id": "TGgQ-ASYiHbK"
   },
   "source": [
    "## Baseline\n",
    "\n",
    "When dealing with classification problems, a simple, but useful baseline is to select the *majority* class (the most common label in the training set) and use it as the prediction for all inputs.\n",
    "\n",
    "Our training dataset consists of 6,000 sneaker examples (10%), and 54,000 non-sneaker images (90%). So our majority class baseline classifies everything as *non-sneaker*. Notice that, for our particular dataset, this will yield an accuracy of 90%. Let's see if we can train a model that can beat the baseline."
   ]
  },
  {
   "cell_type": "code",
   "execution_count": 11,
   "metadata": {
    "id": "ls30LfwsIZCv"
   },
   "outputs": [
    {
     "name": "stdout",
     "output_type": "stream",
     "text": [
      "Number of sneaker images in training set: 6000\n",
      "Number of non-sneaker images in training set: 54000\n"
     ]
    }
   ],
   "source": [
    "print(\"Number of sneaker images in training set: %d\"%(Y_train_binary == 1).sum())\n",
    "print(\"Number of non-sneaker images in training set: %d\"%(Y_train_binary == 0).sum())"
   ]
  },
  {
   "cell_type": "markdown",
   "metadata": {
    "id": "JXNj1z0IlDw_"
   },
   "source": [
    "---\n",
    "### Exercise 3 (8 points)\n",
    "\n",
    "Implement a function that computes the Log Loss (binary cross-entropy) metric and use it to evaluate our baseline on both the train and test data. Use 0.1 as the predicted probability for your baseline (reflecting what we know about the original distribution of classes in our dataset)."
   ]
  },
  {
   "cell_type": "code",
   "execution_count": 12,
   "metadata": {
    "id": "oFM62C3uhoq_"
   },
   "outputs": [
    {
     "name": "stdout",
     "output_type": "stream",
     "text": [
      "The log loss in train set: 0.32508297339144815\n",
      "The log loss in test set: 0.3250829733914482\n"
     ]
    }
   ],
   "source": [
    "import math\n",
    "def log_loss(Y_true, Y_pred):\n",
    "    \"\"\"Returns the binary log loss for a list of labels and predictions.\n",
    "  \n",
    "      Args:\n",
    "        Y_true: A list of (true) labels (0 or 1)\n",
    "        Y_pred: A list of corresponding predicted probabilities\n",
    "\n",
    "      Returns:Binary log loss\"\"\"\n",
    "    # YOUR CODE HERE\n",
    "    log_losses = []\n",
    "    binary_log_loss = (-1*Y_true*(math.log(Y_pred))) - (1-Y_true)*math.log(1-Y_pred)\n",
    "    log_losses.append(binary_log_loss)\n",
    "    \n",
    "    mean = np.mean(log_losses) #binary cross-entropy is the mean of all log losses\n",
    "    return mean\n",
    "loss_train = log_loss(Y_train_binary,0.1)\n",
    "loss_test = log_loss(Y_test_binary,0.1)\n",
    "print(\"The log loss in train set:\", loss_train)\n",
    "print(\"The log loss in test set:\", loss_test)"
   ]
  },
  {
   "cell_type": "markdown",
   "metadata": {
    "id": "kZNKo4axhzY4"
   },
   "source": [
    "---"
   ]
  },
  {
   "cell_type": "markdown",
   "metadata": {
    "id": "35A7So50uc-3"
   },
   "source": [
    "## Build a model\n",
    "We will use Tensorflow/Keras to build our logistic regression model. This should look very similar to the models you built for linear regression but with a few key differences:\n",
    "* We use the Keras flatten layer to turn the 2-D 28x28 pixel grid inputs into 1-D vector inputs.\n",
    "* We configure our dense layer with a sigmoid activation, which applies a sigmoid function to the output of the linear mapping $xW^T$.\n",
    "* We specify binary_crossentropy as the loss (synonymous with log loss) when compiling the model."
   ]
  },
  {
   "cell_type": "code",
   "execution_count": 13,
   "metadata": {
    "id": "eaKF1dVEwsJq"
   },
   "outputs": [],
   "source": [
    "def build_model(learning_rate=0.01):\n",
    "  \"\"\"Build a TF logistic regression model using Keras.\n",
    "\n",
    "  Args:\n",
    "    learning_rate: The desired learning rate for SGD.\n",
    "\n",
    "  Returns:\n",
    "    model: A tf.keras model (graph).\n",
    "  \"\"\"\n",
    "  # This is not strictly necessary, but each time you build a model, TF adds\n",
    "  # new nodes (rather than overwriting), so the colab session can end up\n",
    "  # storing lots of copies of the graph when you only care about the most\n",
    "  # recent. Also, as there is some randomness built into training with SGD,\n",
    "  # setting a random seed ensures that results are the same on each identical\n",
    "  # training run.\n",
    "  tf.keras.backend.clear_session()\n",
    "  np.random.seed(0)\n",
    "  tf.random.set_seed(0)\n",
    "\n",
    "  # Build a model using keras.Sequential.\n",
    "  model = keras.Sequential()\n",
    "\n",
    "  # Keras layers can do pre-processing. This layer will take our 28x28 images\n",
    "  # and flatten them into vectors of size 784.\n",
    "  model.add(keras.layers.Flatten())\n",
    "  \n",
    "  # This layer constructs the linear set of parameters for each input feature\n",
    "  # (as well as a bias), and applies a sigmoid to the result. The result is\n",
    "  # binary logistic regression.\n",
    "  model.add(keras.layers.Dense(\n",
    "      units=1,                     # output dim (for binary classification)\n",
    "      use_bias=True,               # use a bias param\n",
    "      activation=\"sigmoid\"         # apply the sigmoid function!\n",
    "  ))\n",
    "\n",
    "  # Use the SGD optimizer as usual.\n",
    "  optimizer = tf.keras.optimizers.SGD(learning_rate=learning_rate)\n",
    "\n",
    "  # We specify the binary_crossentropy loss (equivalent to log loss).\n",
    "  # Notice that we are including 'binary accuracy' as one of the metrics that we\n",
    "  # ask Tensorflow to report when evaluating the model.\n",
    "  model.compile(loss='binary_crossentropy', \n",
    "                optimizer=optimizer, \n",
    "                metrics=[metrics.binary_accuracy])\n",
    "\n",
    "  return model"
   ]
  },
  {
   "cell_type": "markdown",
   "metadata": {
    "id": "e9sNzLTFWliB"
   },
   "source": [
    "Let's make sure model building code works. Before training, the parameters of the model are initialized randomly (this is the default). While the untrained model won't make good predictions, we should still be able to pass data through it and get probability outputs."
   ]
  },
  {
   "cell_type": "code",
   "execution_count": 14,
   "metadata": {
    "id": "ZrpMK0XfX4-M"
   },
   "outputs": [
    {
     "name": "stdout",
     "output_type": "stream",
     "text": [
      "1/1 [==============================] - 0s 141ms/step\n",
      "[[0.24910644]\n",
      " [0.19025402]\n",
      " [0.14809628]\n",
      " [0.4885778 ]\n",
      " [0.32321048]]\n"
     ]
    }
   ],
   "source": [
    "# Build the model.\n",
    "model = build_model()\n",
    "\n",
    "# Make a prediction for five inputs.\n",
    "print(model.predict(X_train_binary[0:5]))"
   ]
  },
  {
   "cell_type": "markdown",
   "metadata": {
    "id": "ymQ3i8aRiCcO"
   },
   "source": [
    "As expected, the outputs look like probabilities (in [0,1]). Once the model is trained, we hope that these predictions correspond to the probability that each input image is a sneaker."
   ]
  },
  {
   "cell_type": "markdown",
   "metadata": {
    "id": "OUQDiYqCh2Ns"
   },
   "source": [
    "## Train a model\n",
    "Let's train the model. Note that we're using 10% of the training data as a *validation split*. This serves a similar purpose to our test data, allowing us to check for over-fitting during training. We don't use the test data here because we might run lots of experiments, and over time, we might adjust settings to improve results on the validation set. We want to preserve the purity of the test data to allow for the cleanest possible evaluation at the end of the experimentation process."
   ]
  },
  {
   "cell_type": "code",
   "execution_count": 15,
   "metadata": {
    "id": "KkUagTzxpWdr"
   },
   "outputs": [
    {
     "name": "stdout",
     "output_type": "stream",
     "text": [
      "Epoch 1/5\n",
      "844/844 [==============================] - 2s 2ms/step - loss: 0.1407 - binary_accuracy: 0.9432 - val_loss: 0.1152 - val_binary_accuracy: 0.9497\n",
      "Epoch 2/5\n",
      "844/844 [==============================] - 1s 1ms/step - loss: 0.1061 - binary_accuracy: 0.9573 - val_loss: 0.1030 - val_binary_accuracy: 0.9582\n",
      "Epoch 3/5\n",
      "844/844 [==============================] - 1s 2ms/step - loss: 0.0959 - binary_accuracy: 0.9631 - val_loss: 0.0959 - val_binary_accuracy: 0.9605\n",
      "Epoch 4/5\n",
      "844/844 [==============================] - 1s 1ms/step - loss: 0.0894 - binary_accuracy: 0.9669 - val_loss: 0.0909 - val_binary_accuracy: 0.9623\n",
      "Epoch 5/5\n",
      "844/844 [==============================] - 1s 1ms/step - loss: 0.0848 - binary_accuracy: 0.9691 - val_loss: 0.0877 - val_binary_accuracy: 0.9633\n"
     ]
    },
    {
     "data": {
      "text/html": [
       "<div>\n",
       "<style scoped>\n",
       "    .dataframe tbody tr th:only-of-type {\n",
       "        vertical-align: middle;\n",
       "    }\n",
       "\n",
       "    .dataframe tbody tr th {\n",
       "        vertical-align: top;\n",
       "    }\n",
       "\n",
       "    .dataframe thead th {\n",
       "        text-align: right;\n",
       "    }\n",
       "</style>\n",
       "<table border=\"1\" class=\"dataframe\">\n",
       "  <thead>\n",
       "    <tr style=\"text-align: right;\">\n",
       "      <th></th>\n",
       "      <th>loss</th>\n",
       "      <th>binary_accuracy</th>\n",
       "      <th>val_loss</th>\n",
       "      <th>val_binary_accuracy</th>\n",
       "    </tr>\n",
       "  </thead>\n",
       "  <tbody>\n",
       "    <tr>\n",
       "      <th>0</th>\n",
       "      <td>0.140679</td>\n",
       "      <td>0.943222</td>\n",
       "      <td>0.115156</td>\n",
       "      <td>0.949667</td>\n",
       "    </tr>\n",
       "    <tr>\n",
       "      <th>1</th>\n",
       "      <td>0.106147</td>\n",
       "      <td>0.957296</td>\n",
       "      <td>0.103045</td>\n",
       "      <td>0.958167</td>\n",
       "    </tr>\n",
       "    <tr>\n",
       "      <th>2</th>\n",
       "      <td>0.095930</td>\n",
       "      <td>0.963148</td>\n",
       "      <td>0.095921</td>\n",
       "      <td>0.960500</td>\n",
       "    </tr>\n",
       "    <tr>\n",
       "      <th>3</th>\n",
       "      <td>0.089447</td>\n",
       "      <td>0.966870</td>\n",
       "      <td>0.090878</td>\n",
       "      <td>0.962333</td>\n",
       "    </tr>\n",
       "    <tr>\n",
       "      <th>4</th>\n",
       "      <td>0.084804</td>\n",
       "      <td>0.969074</td>\n",
       "      <td>0.087673</td>\n",
       "      <td>0.963333</td>\n",
       "    </tr>\n",
       "  </tbody>\n",
       "</table>\n",
       "</div>"
      ],
      "text/plain": [
       "       loss  binary_accuracy  val_loss  val_binary_accuracy\n",
       "0  0.140679         0.943222  0.115156             0.949667\n",
       "1  0.106147         0.957296  0.103045             0.958167\n",
       "2  0.095930         0.963148  0.095921             0.960500\n",
       "3  0.089447         0.966870  0.090878             0.962333\n",
       "4  0.084804         0.969074  0.087673             0.963333"
      ]
     },
     "metadata": {},
     "output_type": "display_data"
    }
   ],
   "source": [
    "model = build_model(learning_rate=0.01)\n",
    "\n",
    "# Fit the model.\n",
    "history = model.fit(\n",
    "  x = X_train_binary,   # our binary training examples\n",
    "  y = Y_train_binary,   # corresponding binary labels\n",
    "  epochs=5,             # number of passes through the training data\n",
    "  batch_size=64,        # mini-batch size for SGD\n",
    "  validation_split=0.1, # use a fraction of the examples for validation\n",
    "  verbose=1             # display some progress output during training\n",
    "  )\n",
    "\n",
    "# Convert the return value into a DataFrame so we can see the train loss \n",
    "# and binary accuracy after every epoch.\n",
    "history = pd.DataFrame(history.history)\n",
    "display(history)"
   ]
  },
  {
   "cell_type": "markdown",
   "metadata": {
    "id": "eS8lOgCK-0At"
   },
   "source": [
    "## Evaluate the model\n",
    "\n",
    "Good news. It appears that our model is doing better than our baseline. Let's use the trained model to predict probabilities for the test data. We can use `predict` to run *inference*."
   ]
  },
  {
   "cell_type": "code",
   "execution_count": 16,
   "metadata": {
    "id": "t0PU3br4-zv8"
   },
   "outputs": [
    {
     "name": "stdout",
     "output_type": "stream",
     "text": [
      "313/313 [==============================] - 0s 969us/step\n",
      "(10000,)\n",
      "[2.7270910e-01 2.4193923e-07 2.8413953e-04 ... 1.0274261e-03 4.3181456e-03\n",
      " 3.0359995e-01]\n"
     ]
    }
   ],
   "source": [
    "# The result of model.predict has an extra dimension, so we flatten to get a\n",
    "# vector of predictions. Note that these are the predicted probabilities of the\n",
    "# positive (sneaker) class.\n",
    "test_predictions = model.predict(X_test_binary).flatten()\n",
    "print(test_predictions.shape)\n",
    "print(test_predictions)"
   ]
  },
  {
   "cell_type": "markdown",
   "metadata": {
    "id": "LTdRTsyM2YvI"
   },
   "source": [
    "---\n",
    "### Exercise 4 (8 points)\n",
    "\n",
    "Compute the accuracy on the test data using a threshold of 0.5. Remember to use Y_test_binary for the true labels."
   ]
  },
  {
   "cell_type": "code",
   "execution_count": 20,
   "metadata": {
    "id": "B-o6Bdkl2gQT"
   },
   "outputs": [
    {
     "name": "stdout",
     "output_type": "stream",
     "text": [
      "Accuracy on Test Data (Threshold = 0.5): 0.9699\n"
     ]
    }
   ],
   "source": [
    "# YOUR CODE HERE\n",
    "\n",
    "# Assuming test_predictions contains predicted probabilities\n",
    "# And Y_test_binary contains true binary labels (0 or 1)\n",
    "threshold = 0.5\n",
    "\n",
    "# Convert predicted probabilities to binary predictions\n",
    "Y_pred_binary = [1 if pred >= threshold else 0 for pred in test_predictions]\n",
    "\n",
    "# Calculate accuracy\n",
    "correct_predictions = sum(1 for true, pred in zip(Y_test_binary, Y_pred_binary) if true == pred)\n",
    "total_samples = len(Y_test_binary)\n",
    "accuracy = correct_predictions / total_samples\n",
    "\n",
    "print(f'Accuracy on Test Data (Threshold = {threshold}): {accuracy:.4f}')\n",
    "\n",
    "        \n"
   ]
  },
  {
   "cell_type": "markdown",
   "metadata": {
    "id": "LVEF6i092hfl"
   },
   "source": [
    "---"
   ]
  },
  {
   "cell_type": "markdown",
   "metadata": {
    "id": "tV_gTk-9YI3d"
   },
   "source": [
    "## Analyze the model\n",
    "\n",
    "Let's investigate what the model has learned. Recall how to get the learned weights from the model:"
   ]
  },
  {
   "cell_type": "code",
   "execution_count": 18,
   "metadata": {
    "id": "n9aw-V-FTlaq"
   },
   "outputs": [
    {
     "name": "stdout",
     "output_type": "stream",
     "text": [
      "[<keras.layers.reshaping.flatten.Flatten object at 0x0000023900790160>, <keras.layers.core.dense.Dense object at 0x000002397A4E1370>]\n",
      "Bias: -0.44215235\n",
      "Weights shape: (784,)\n"
     ]
    }
   ],
   "source": [
    "# The model includes 2 layers: a flattening layer and a dense layer.\n",
    "print(model.layers)\n",
    "\n",
    "# Retrieve the weights and biases from the dense layer.\n",
    "weights, biases = model.layers[1].get_weights()\n",
    "bias = biases[0]  # there's only 1 bias\n",
    "weights = weights.flatten()  # flatten the weights to a vector\n",
    "print('Bias:', bias)\n",
    "print('Weights shape:', weights.shape)"
   ]
  },
  {
   "cell_type": "markdown",
   "metadata": {
    "id": "9gfq7t1naoTM"
   },
   "source": [
    "---\n",
    "### Exercise 5 (8 points)\n",
    "\n",
    "1. Using just the bias calculated in the model, compute the predicted probability (of the sneaker class) for an image of all 0-valued inputs.\n",
    "\n",
    "2. Construct a fake image with all 0s and use model.predict.\n",
    "\n",
    "3. Confirm if they agree"
   ]
  },
  {
   "cell_type": "code",
   "execution_count": 19,
   "metadata": {},
   "outputs": [
    {
     "name": "stdout",
     "output_type": "stream",
     "text": [
      "1/1 [==============================] - 0s 15ms/step\n",
      "Predicted Probability (bias only): 0.39122822700635923\n",
      "Predicted Probability (from model.predict): [0.39122823]\n",
      "The two predictions agree within the specified tolerance.\n"
     ]
    }
   ],
   "source": [
    "# YOUR CODE HERE\n",
    "# Bias value calculated in the model\n",
    "bias = -0.44215235\n",
    "\n",
    "# 1. Using just the bias to compute the predicted probability\n",
    "predicted_probability_bias_only = 1 / (1 + math.exp(-bias))\n",
    "\n",
    "# 2. Construct a fake image with all 0s\n",
    "fake_image = np.zeros((1, 28, 28))  # Shape should match the input shape expected by your model\n",
    "\n",
    "# make prediction\n",
    "\n",
    "predicted_probabilities = model.predict(fake_image)\n",
    "\n",
    "# 3. Confirm if they agree\n",
    "predicted_probability_from_model = predicted_probabilities[0]  \n",
    "\n",
    "# Check if the two predictions are approximately equal\n",
    "e = 0.00001\n",
    "agrees = abs(predicted_probability_bias_only - predicted_probability_from_model) < e\n",
    "\n",
    "print(\"Predicted Probability (bias only):\", predicted_probability_bias_only)\n",
    "print(\"Predicted Probability (from model.predict):\", predicted_probability_from_model)\n",
    "\n",
    "if agrees:\n",
    "    print(\"The two predictions agree within the specified tolerance.\")\n",
    "else:\n",
    "    print(\"The two predictions do not agree within the specified tolerance.\")\n"
   ]
  },
  {
   "cell_type": "markdown",
   "metadata": {
    "id": "LsCGfuB1c_vs"
   },
   "source": [
    "---"
   ]
  }
 ],
 "metadata": {
  "colab": {
   "collapsed_sections": [
    "copyright",
    "LOcjWKAljbqr",
    "bCBT54r7k2YL",
    "loqjuOZFlEdt"
   ],
   "name": "04 Logistic Regression with Tensorflow.ipynb",
   "private_outputs": true,
   "provenance": [],
   "toc_visible": true
  },
  "kernelspec": {
   "display_name": "Python 3 (ipykernel)",
   "language": "python",
   "name": "python3"
  },
  "language_info": {
   "codemirror_mode": {
    "name": "ipython",
    "version": 3
   },
   "file_extension": ".py",
   "mimetype": "text/x-python",
   "name": "python",
   "nbconvert_exporter": "python",
   "pygments_lexer": "ipython3",
   "version": "3.9.7"
  }
 },
 "nbformat": 4,
 "nbformat_minor": 4
}
