{
 "cells": [
  {
   "cell_type": "markdown",
   "metadata": {},
   "source": [
    "# Lab 8"
   ]
  },
  {
   "cell_type": "markdown",
   "metadata": {},
   "source": [
    "### <span style=\"color:chocolate\"> Submission requirements </span>\n",
    "\n",
    "Additional points may be deducted if these requirements are not met:\n",
    "    \n",
    "* Comment your code\n",
    "* Each graph should have a title, labels for each axis, and (if needed) a legend. Each graph should be understandable on its own\n",
    "* Be sure your submitted notebook includes the output of your run (Hint: go to Kernel -> Restart Kernel and Run All Cells...)\n",
    "* Try and minimize the use of the global namespace (meaning, keep things inside functions)\n",
    "* Upload your .ipynb file to Gradescope when done\n",
    "---"
   ]
  },
  {
   "cell_type": "markdown",
   "metadata": {
    "id": "oeL1CksCWEql"
   },
   "source": [
    "This lab introduces you to K-means Clustering\n",
    "\n",
    "[The RGB color model](https://en.wikipedia.org/wiki/RGB_color_model) is an additive color model in which the red, green, and blue primary colors of light are added together in various ways to reproduce a broad array of colors. The name of the model comes from the initials of the three additive primary colors, red, green, and blue.\n",
    "\n",
    "There are plenty of RBG-to-color converters on the web \n",
    "https://www.rapidtables.com/convert/color/rgb-to-hex.html\n",
    "\n",
    "These two RGB triples look almost identical to the human eye\n",
    "- [0, 0, 255]\n",
    "- [0, 1, 255]\n",
    "\n",
    "However there is no \"reverse lookup\" that tells you that \"this color is close to blue\" unless it is a [basic](https://en.wikipedia.org/wiki/Web_colors#Basic_colors) or [extended](https://en.wikipedia.org/wiki/Web_colors#Extended_colors) color with a specified RGB value.\n",
    "\n",
    "For this assignment you are provided a file with RGB triples for a bunch of colors.\n",
    "\n",
    "The task is to use K-means clustering to:\n",
    "\n",
    "- group the colors into color families\n",
    "- make a histogram of your color clusters to see the dsitribution of colors\n",
    "- establish some human-readable names for your clusters like red, blue, yellow, etc.\n",
    "- determine the centroids of the clusters\n",
    "- write a function that makes the best guess of an RGB triple based on the centroids\n",
    "- make some visual output to show that your guesses worked"
   ]
  },
  {
   "cell_type": "code",
   "execution_count": 1,
   "metadata": {
    "id": "lpOiog6ffG1N"
   },
   "outputs": [],
   "source": [
    "## import necessary libraries and packages\n",
    "import pandas\n",
    "import numpy as np\n",
    "import matplotlib.pyplot as plt\n",
    "from mpl_toolkits.mplot3d import Axes3D\n",
    "from sklearn.cluster import KMeans\n",
    "\n",
    "# importing sys\n",
    "import sys"
   ]
  },
  {
   "cell_type": "markdown",
   "metadata": {
    "id": "1vulsLQRfAzV"
   },
   "source": [
    "## Load Data\n",
    "\n",
    "This color data was taken from a selection of digital ad images where the goal of the project was to understand if the presence of certain colors were indicative of high performing ads.\n",
    "\n",
    "However, before making a predictive model, it was necessary to actually classify the color of RBG triples that were present in the images.\n",
    "\n",
    "It is important to note that if the color values were uniformly distributed there would be no value in clustering.\n"
   ]
  },
  {
   "cell_type": "code",
   "execution_count": 2,
   "metadata": {
    "id": "ojQcyUk0fDG_"
   },
   "outputs": [],
   "source": [
    "data_file = \"HW08_rgb_colors.csv\"\n",
    "df_colors = pandas.read_csv(data_file)"
   ]
  },
  {
   "cell_type": "markdown",
   "metadata": {
    "id": "sC7gYG67hEEi"
   },
   "source": [
    "## Examine data\n",
    "\n",
    "If our thesis is correct, similar colors should be near each other in the 3-dimensional RBG space.\n",
    "\n",
    "To visualize this we can plot the RBG components and verify that this is the case.\n",
    "\n",
    "Note that in the plot below, the full RGB triple is used to tell pandas/matplotlib what color to make each dot."
   ]
  },
  {
   "cell_type": "code",
   "execution_count": 3,
   "metadata": {
    "colab": {
     "base_uri": "https://localhost:8080/"
    },
    "id": "4Q_cJb7BC-MO",
    "outputId": "2c7d2397-5de3-4597-8273-9c5806dad660"
   },
   "outputs": [
    {
     "data": {
      "text/plain": [
       "2030"
      ]
     },
     "execution_count": 3,
     "metadata": {},
     "output_type": "execute_result"
    }
   ],
   "source": [
    "# how many data points?\n",
    "len(df_colors)"
   ]
  },
  {
   "cell_type": "code",
   "execution_count": 4,
   "metadata": {
    "colab": {
     "base_uri": "https://localhost:8080/",
     "height": 206
    },
    "id": "XEhZjtLHcAZa",
    "outputId": "c10a4202-8a57-44cc-859d-2a2aea7e9277"
   },
   "outputs": [
    {
     "data": {
      "text/html": [
       "<div>\n",
       "<style scoped>\n",
       "    .dataframe tbody tr th:only-of-type {\n",
       "        vertical-align: middle;\n",
       "    }\n",
       "\n",
       "    .dataframe tbody tr th {\n",
       "        vertical-align: top;\n",
       "    }\n",
       "\n",
       "    .dataframe thead th {\n",
       "        text-align: right;\n",
       "    }\n",
       "</style>\n",
       "<table border=\"1\" class=\"dataframe\">\n",
       "  <thead>\n",
       "    <tr style=\"text-align: right;\">\n",
       "      <th></th>\n",
       "      <th>red</th>\n",
       "      <th>green</th>\n",
       "      <th>blue</th>\n",
       "    </tr>\n",
       "  </thead>\n",
       "  <tbody>\n",
       "    <tr>\n",
       "      <th>0</th>\n",
       "      <td>233</td>\n",
       "      <td>197</td>\n",
       "      <td>146</td>\n",
       "    </tr>\n",
       "    <tr>\n",
       "      <th>1</th>\n",
       "      <td>183</td>\n",
       "      <td>97</td>\n",
       "      <td>58</td>\n",
       "    </tr>\n",
       "    <tr>\n",
       "      <th>2</th>\n",
       "      <td>188</td>\n",
       "      <td>84</td>\n",
       "      <td>7</td>\n",
       "    </tr>\n",
       "    <tr>\n",
       "      <th>3</th>\n",
       "      <td>247</td>\n",
       "      <td>252</td>\n",
       "      <td>254</td>\n",
       "    </tr>\n",
       "    <tr>\n",
       "      <th>4</th>\n",
       "      <td>248</td>\n",
       "      <td>253</td>\n",
       "      <td>253</td>\n",
       "    </tr>\n",
       "  </tbody>\n",
       "</table>\n",
       "</div>"
      ],
      "text/plain": [
       "   red  green  blue\n",
       "0  233    197   146\n",
       "1  183     97    58\n",
       "2  188     84     7\n",
       "3  247    252   254\n",
       "4  248    253   253"
      ]
     },
     "execution_count": 4,
     "metadata": {},
     "output_type": "execute_result"
    }
   ],
   "source": [
    "# what is in our DataFrame?\n",
    "df_colors.head()"
   ]
  },
  {
   "cell_type": "code",
   "execution_count": 5,
   "metadata": {
    "colab": {
     "base_uri": "https://localhost:8080/",
     "height": 266
    },
    "id": "7adadJysAozT",
    "outputId": "8b3e5ae8-b2ff-4bd9-ef21-7990100d28f8"
   },
   "outputs": [
    {
     "name": "stderr",
     "output_type": "stream",
     "text": [
      "C:\\Users\\Dandan\\AppData\\Local\\Temp/ipykernel_3364/1483985810.py:4: MatplotlibDeprecationWarning: Calling gca() with keyword arguments was deprecated in Matplotlib 3.4. Starting two minor releases later, gca() will take no keyword arguments. The gca() function should only be used to get the current axes, or if no axes exist, create new axes with default keyword arguments. To create a new axes with non-default arguments, use plt.axes() or plt.subplot().\n",
      "  fig = plt.figure().gca(projection='3d')\n"
     ]
    },
    {
     "data": {
      "text/plain": [
       "<mpl_toolkits.mplot3d.art3d.Path3DCollection at 0x1da650536d0>"
      ]
     },
     "execution_count": 5,
     "metadata": {},
     "output_type": "execute_result"
    },
    {
     "data": {
      "image/png": "[encoded data removed]",
      "text/plain": [
       "<Figure size 432x288 with 1 Axes>"
      ]
     },
     "metadata": {
      "needs_background": "light"
     },
     "output_type": "display_data"
    }
   ],
   "source": [
    "# make a 3d scatter plot\n",
    "colors = np.array(df_colors.values)/256 # colors need to be (r,b,g) tuple in the range of 0-1\n",
    "\n",
    "fig = plt.figure().gca(projection='3d')\n",
    "fig.scatter(df_colors.red, df_colors.green, df_colors.blue, color=colors )"
   ]
  },
  {
   "cell_type": "markdown",
   "metadata": {
    "id": "iKTKmUYllvmx"
   },
   "source": [
    "### Exercise 1: Construct K-means model (20 points)\n",
    "\n",
    "Fit a KMeans model with 10 clusters.  Be sure to use a fixed `random_state` so that you get consistent results.\n",
    "\n",
    "Use the `predict` function to get the cluster predictions for each data point and add this to the `df_colors` DataFrame "
   ]
  },
  {
   "cell_type": "markdown",
   "metadata": {
    "id": "4UM_zK5UJZK4"
   },
   "source": [
    "##### Student Solution"
   ]
  },
  {
   "cell_type": "code",
   "execution_count": 6,
   "metadata": {},
   "outputs": [
    {
     "name": "stderr",
     "output_type": "stream",
     "text": [
      "c:\\Users\\Dandan\\anaconda3\\lib\\site-packages\\sklearn\\cluster\\_kmeans.py:1412: FutureWarning: The default value of `n_init` will change from 10 to 'auto' in 1.4. Set the value of `n_init` explicitly to suppress the warning\n",
      "  super()._check_params_vs_input(X, default_n_init=10)\n"
     ]
    },
    {
     "data": {
      "text/html": [
       "<div>\n",
       "<style scoped>\n",
       "    .dataframe tbody tr th:only-of-type {\n",
       "        vertical-align: middle;\n",
       "    }\n",
       "\n",
       "    .dataframe tbody tr th {\n",
       "        vertical-align: top;\n",
       "    }\n",
       "\n",
       "    .dataframe thead th {\n",
       "        text-align: right;\n",
       "    }\n",
       "</style>\n",
       "<table border=\"1\" class=\"dataframe\">\n",
       "  <thead>\n",
       "    <tr style=\"text-align: right;\">\n",
       "      <th></th>\n",
       "      <th>red</th>\n",
       "      <th>green</th>\n",
       "      <th>blue</th>\n",
       "      <th>cluster</th>\n",
       "    </tr>\n",
       "  </thead>\n",
       "  <tbody>\n",
       "    <tr>\n",
       "      <th>0</th>\n",
       "      <td>233</td>\n",
       "      <td>197</td>\n",
       "      <td>146</td>\n",
       "      <td>1</td>\n",
       "    </tr>\n",
       "    <tr>\n",
       "      <th>1</th>\n",
       "      <td>183</td>\n",
       "      <td>97</td>\n",
       "      <td>58</td>\n",
       "      <td>7</td>\n",
       "    </tr>\n",
       "    <tr>\n",
       "      <th>2</th>\n",
       "      <td>188</td>\n",
       "      <td>84</td>\n",
       "      <td>7</td>\n",
       "      <td>7</td>\n",
       "    </tr>\n",
       "    <tr>\n",
       "      <th>3</th>\n",
       "      <td>247</td>\n",
       "      <td>252</td>\n",
       "      <td>254</td>\n",
       "      <td>3</td>\n",
       "    </tr>\n",
       "    <tr>\n",
       "      <th>4</th>\n",
       "      <td>248</td>\n",
       "      <td>253</td>\n",
       "      <td>253</td>\n",
       "      <td>3</td>\n",
       "    </tr>\n",
       "    <tr>\n",
       "      <th>...</th>\n",
       "      <td>...</td>\n",
       "      <td>...</td>\n",
       "      <td>...</td>\n",
       "      <td>...</td>\n",
       "    </tr>\n",
       "    <tr>\n",
       "      <th>2025</th>\n",
       "      <td>27</td>\n",
       "      <td>123</td>\n",
       "      <td>141</td>\n",
       "      <td>9</td>\n",
       "    </tr>\n",
       "    <tr>\n",
       "      <th>2026</th>\n",
       "      <td>194</td>\n",
       "      <td>193</td>\n",
       "      <td>198</td>\n",
       "      <td>1</td>\n",
       "    </tr>\n",
       "    <tr>\n",
       "      <th>2027</th>\n",
       "      <td>41</td>\n",
       "      <td>113</td>\n",
       "      <td>197</td>\n",
       "      <td>4</td>\n",
       "    </tr>\n",
       "    <tr>\n",
       "      <th>2028</th>\n",
       "      <td>35</td>\n",
       "      <td>114</td>\n",
       "      <td>197</td>\n",
       "      <td>4</td>\n",
       "    </tr>\n",
       "    <tr>\n",
       "      <th>2029</th>\n",
       "      <td>27</td>\n",
       "      <td>123</td>\n",
       "      <td>141</td>\n",
       "      <td>9</td>\n",
       "    </tr>\n",
       "  </tbody>\n",
       "</table>\n",
       "<p>2030 rows × 4 columns</p>\n",
       "</div>"
      ],
      "text/plain": [
       "      red  green  blue  cluster\n",
       "0     233    197   146        1\n",
       "1     183     97    58        7\n",
       "2     188     84     7        7\n",
       "3     247    252   254        3\n",
       "4     248    253   253        3\n",
       "...   ...    ...   ...      ...\n",
       "2025   27    123   141        9\n",
       "2026  194    193   198        1\n",
       "2027   41    113   197        4\n",
       "2028   35    114   197        4\n",
       "2029   27    123   141        9\n",
       "\n",
       "[2030 rows x 4 columns]"
      ]
     },
     "execution_count": 6,
     "metadata": {},
     "output_type": "execute_result"
    }
   ],
   "source": [
    "n_clusters = 10\n",
    "random_state = 10  # makes sure you get the same results each time\n",
    "\n",
    "## get np array for RBG values\n",
    "X = np.array(df_colors.values)\n",
    "# Define the function to fit K-means model\n",
    "def fit_kmeans(X, n_clusters, random_state):\n",
    "    ## YOUR CODE HERE ## \n",
    "    model = KMeans(n_clusters=n_clusters, random_state=random_state)\n",
    "    model.fit(X)\n",
    "    return model\n",
    "\n",
    "# Fit the K-means model\n",
    "model = fit_kmeans(X, n_clusters=n_clusters, random_state=random_state)\n",
    "\n",
    "# Get cluster predictions and add them to the DataFrame\n",
    "df_colors['cluster'] = model.predict(X)\n",
    "\n",
    "# Print the DataFrame with cluster assignments\n",
    "df_colors"
   ]
  },
  {
   "cell_type": "markdown",
   "metadata": {
    "id": "ZboSuE-Gd9Zh"
   },
   "source": [
    "## Visualize results for K-means clustering\n"
   ]
  },
  {
   "cell_type": "markdown",
   "metadata": {
    "id": "PtsNYYLSe_D1"
   },
   "source": [
    "### Exercise 2: Plot a histogram of the distribution of clusters (20 points)\n",
    "\n",
    "Since there are 10 clusters, using the `pandas.DataFrame.hist()` will render the correct distribution of values across each bin since 10 is the default number of bins.\n",
    "\n",
    "Make sure that your visual output also matches the output of `Series.value_counts()`\n"
   ]
  },
  {
   "cell_type": "markdown",
   "metadata": {
    "id": "asvG7XGwKKHS"
   },
   "source": [
    "##### Student Solution"
   ]
  },
  {
   "cell_type": "code",
   "execution_count": 7,
   "metadata": {},
   "outputs": [
    {
     "data": {
      "image/png": "[encoded data removed]",
      "text/plain": [
       "<Figure size 720x432 with 1 Axes>"
      ]
     },
     "metadata": {
      "needs_background": "light"
     },
     "output_type": "display_data"
    },
    {
     "name": "stdout",
     "output_type": "stream",
     "text": [
      "3    399\n",
      "0    338\n",
      "1    244\n",
      "5    201\n",
      "2    177\n",
      "4    168\n",
      "7    151\n",
      "9    147\n",
      "6    119\n",
      "8     86\n",
      "Name: cluster, dtype: int64\n"
     ]
    }
   ],
   "source": [
    "## plot histogram and print out number of points in each color cluster\n",
    "\n",
    "## YOUR CODE HERE ## \n",
    "# Calculate cluster distribution and sort in descending order\n",
    "cluster_distribution = df_colors['cluster'].value_counts().sort_values(ascending=False)\n",
    "\n",
    "# Create a prettier histogram plot\n",
    "plt.figure(figsize=(10, 6))\n",
    "plt.bar(cluster_distribution.index, cluster_distribution.values, color='#007acc', alpha=0.7, edgecolor='black')\n",
    "plt.xlabel('Cluster')\n",
    "plt.ylabel('Frequency')\n",
    "plt.title('Cluster Distribution Histogram')\n",
    "plt.xticks(range(n_clusters))\n",
    "plt.grid(axis='y', linestyle='--', alpha=0.7)\n",
    "\n",
    "# Add annotations with the cluster counts\n",
    "for x, y in zip(cluster_distribution.index, cluster_distribution.values):\n",
    "    plt.text(x, y + 2, str(y), ha='center', va='bottom', fontweight='bold', fontsize=12)\n",
    "\n",
    "# Show the histogram\n",
    "plt.tight_layout()\n",
    "plt.show()\n",
    "\n",
    "# Print the cluster distribution\n",
    "print(cluster_distribution)"
   ]
  },
  {
   "cell_type": "markdown",
   "metadata": {
    "id": "wcgxW7trbt4p"
   },
   "source": [
    "### Examine results of clustering"
   ]
  },
  {
   "cell_type": "code",
   "execution_count": 8,
   "metadata": {
    "colab": {
     "base_uri": "https://localhost:8080/",
     "height": 297
    },
    "id": "8sw287rQb0lo",
    "outputId": "4cad7fe9-2edb-4cae-9b89-dec2f11cc644"
   },
   "outputs": [
    {
     "data": {
      "text/plain": [
       "<AxesSubplot:xlabel='index', ylabel='cluster'>"
      ]
     },
     "execution_count": 8,
     "metadata": {},
     "output_type": "execute_result"
    },
    {
     "data": {
      "image/png": "[encoded data removed]",
      "text/plain": [
       "<Figure size 432x288 with 1 Axes>"
      ]
     },
     "metadata": {
      "needs_background": "light"
     },
     "output_type": "display_data"
    }
   ],
   "source": [
    "# take a look at distribution of colors - only the first 500 for clarity\n",
    "df_colors[:500].reset_index(drop=False).plot(x='index', y='cluster', kind='scatter', color=colors[:500])"
   ]
  },
  {
   "cell_type": "markdown",
   "metadata": {
    "id": "hqygpwqUcjuL"
   },
   "source": [
    "### Exercise 3: Determine the centroids of the clusters (20 points)\n"
   ]
  },
  {
   "cell_type": "markdown",
   "metadata": {
    "id": "4M2FoubOLeTe"
   },
   "source": [
    "##### Student Solution"
   ]
  },
  {
   "cell_type": "code",
   "execution_count": 9,
   "metadata": {
    "id": "O0ppzlJSLnBV"
   },
   "outputs": [
    {
     "name": "stdout",
     "output_type": "stream",
     "text": [
      "Cluster Centroids:\n",
      "Cluster 1: R=13.74, G=12.26, B=16.14\n",
      "Cluster 2: R=184.59, G=176.51, B=159.07\n",
      "Cluster 3: R=105.58, G=87.23, B=84.38\n",
      "Cluster 4: R=244.11, G=246.62, B=246.13\n",
      "Cluster 5: R=12.80, G=102.63, B=199.40\n",
      "Cluster 6: R=47.97, G=65.42, B=46.38\n",
      "Cluster 7: R=224.61, G=181.31, B=42.07\n",
      "Cluster 8: R=192.66, G=29.59, B=38.80\n",
      "Cluster 9: R=117.74, G=203.88, B=229.16\n",
      "Cluster 10: R=71.11, G=128.82, B=168.41\n"
     ]
    }
   ],
   "source": [
    "# get centroids\n",
    "\n",
    "## YOUR CODE HERE ## \n",
    "centroids = model.cluster_centers_\n",
    "\n",
    "# Print the centroids\n",
    "print(\"Cluster Centroids:\")\n",
    "for i, centroid in enumerate(centroids):\n",
    "    print(f\"Cluster {i + 1}: R={centroid[0]:.2f}, G={centroid[1]:.2f}, B={centroid[2]:.2f}\")"
   ]
  },
  {
   "cell_type": "markdown",
   "metadata": {},
   "source": [
    "Next, let's ``create a color dictionary`` to give color names to each centroid. You will need this dictionary to solve Exercise 4."
   ]
  },
  {
   "cell_type": "code",
   "execution_count": 10,
   "metadata": {},
   "outputs": [
    {
     "data": {
      "image/png": "[encoded data removed]",
      "text/plain": [
       "<Figure size 72x72 with 1 Axes>"
      ]
     },
     "metadata": {
      "needs_background": "light"
     },
     "output_type": "display_data"
    },
    {
     "data": {
      "image/png": "[encoded data removed]",
      "text/plain": [
       "<Figure size 72x72 with 1 Axes>"
      ]
     },
     "metadata": {
      "needs_background": "light"
     },
     "output_type": "display_data"
    },
    {
     "data": {
      "image/png": "[encoded data removed]",
      "text/plain": [
       "<Figure size 72x72 with 1 Axes>"
      ]
     },
     "metadata": {
      "needs_background": "light"
     },
     "output_type": "display_data"
    },
    {
     "data": {
      "image/png": "[encoded data removed]",
      "text/plain": [
       "<Figure size 72x72 with 1 Axes>"
      ]
     },
     "metadata": {
      "needs_background": "light"
     },
     "output_type": "display_data"
    },
    {
     "data": {
      "image/png": "[encoded data removed]",
      "text/plain": [
       "<Figure size 72x72 with 1 Axes>"
      ]
     },
     "metadata": {
      "needs_background": "light"
     },
     "output_type": "display_data"
    },
    {
     "data": {
      "image/png": "[encoded data removed]",
      "text/plain": [
       "<Figure size 72x72 with 1 Axes>"
      ]
     },
     "metadata": {
      "needs_background": "light"
     },
     "output_type": "display_data"
    },
    {
     "data": {
      "image/png": "[encoded data removed]",
      "text/plain": [
       "<Figure size 72x72 with 1 Axes>"
      ]
     },
     "metadata": {
      "needs_background": "light"
     },
     "output_type": "display_data"
    },
    {
     "data": {
      "image/png": "[encoded data removed]",
      "text/plain": [
       "<Figure size 72x72 with 1 Axes>"
      ]
     },
     "metadata": {
      "needs_background": "light"
     },
     "output_type": "display_data"
    },
    {
     "data": {
      "image/png": "[encoded data removed]",
      "text/plain": [
       "<Figure size 72x72 with 1 Axes>"
      ]
     },
     "metadata": {
      "needs_background": "light"
     },
     "output_type": "display_data"
    },
    {
     "data": {
      "image/png": "[encoded data removed]",
      "text/plain": [
       "<Figure size 72x72 with 1 Axes>"
      ]
     },
     "metadata": {
      "needs_background": "light"
     },
     "output_type": "display_data"
    }
   ],
   "source": [
    "import HW08_color_names  #this is a dictionary\n",
    "color_dict = HW08_color_names.get_closest_name_for_rgb(centroids)\n",
    "\n",
    "def show_color(test_color, title):\n",
    "  # normalize \n",
    "  c = [ cc/255 for cc in test_color]  \n",
    "\n",
    "  # some random coordinates\n",
    "  x=[1]\n",
    "  y = [1]\n",
    "\n",
    "  # plot a single dot\n",
    "  fig = plt.figure(figsize=(1, 1))\n",
    "  plt.scatter(x,y,color=c,s=500)\n",
    "  plt.title(title)\n",
    "  plt.axis('off')\n",
    "  return(plt)\n",
    "\n",
    "for cluster in range(n_clusters):\n",
    "    show_color(centroids[cluster], f'Cluster {cluster}:\\n {color_dict[cluster]}')\n"
   ]
  },
  {
   "cell_type": "markdown",
   "metadata": {
    "id": "4vxCLwk1czBJ"
   },
   "source": [
    "### Exercise 4: Write a function that makes the best guess of an RGB triple based on the centroids (20 points)\n",
    "\n",
    "The  [`KMeans.predict()`](https://scikit-learn.org/stable/modules/generated/sklearn.cluster.KMeans.html#sklearn.cluster.KMeans.predict) function predicts the cluster of any test data point by returning the cluster whose center is closest to the test data point.\n",
    "\n",
    "Without using `predict()` write a function that guesses the color of an RBG triple by finding the nearest centroid.\n",
    "\n",
    "There are many ways to calculate distance.  For this exercise it is sufficient to use a simple Euclidean distance formula.\n"
   ]
  },
  {
   "cell_type": "markdown",
   "metadata": {
    "id": "NGiSb93cghfC"
   },
   "source": [
    "##### Student Solution"
   ]
  },
  {
   "cell_type": "code",
   "execution_count": 11,
   "metadata": {
    "id": "Ocw4OTu2c2DF"
   },
   "outputs": [
    {
     "name": "stdout",
     "output_type": "stream",
     "text": [
      "Firebrick\n"
     ]
    }
   ],
   "source": [
    "## color guessing function\n",
    "def euclidean_distance(color1, color2):\n",
    "    return np.sqrt(np.sum((color1 - color2) ** 2))\n",
    "\n",
    "def guess_color(centroids, color_dict, test_color):\n",
    "    closest_centroid_index = None\n",
    "    min_distance = float('inf')\n",
    "\n",
    "    for i, centroid in enumerate(centroids):\n",
    "        distance = euclidean_distance(test_color, centroid)\n",
    "        if distance < min_distance:\n",
    "            min_distance = distance\n",
    "            closest_centroid_index = i\n",
    "\n",
    "    # Find the color name corresponding to the closest centroid\n",
    "    color_name = color_dict.get(closest_centroid_index, \"Unknown\")\n",
    "    return color_name\n",
    "\n",
    "# Create a dictionary that maps cluster number to cluster name\n",
    "cluster_name_dict = {}\n",
    "for cluster_number, cluster_name in enumerate(color_dict):\n",
    "    cluster_name_dict[cluster_number] = cluster_name\n",
    "\n",
    "color1 = [200, 5, 5]  # approximately red \n",
    "print(guess_color(centroids=centroids, color_dict=cluster_name_dict, test_color=color1))"
   ]
  },
  {
   "cell_type": "markdown",
   "metadata": {
    "id": "Ffx7sbNMfe4u"
   },
   "source": [
    "### Exercise 5: Write a function that returns the colors name based on the `predict()` function (20 points)\n"
   ]
  },
  {
   "cell_type": "markdown",
   "metadata": {},
   "source": [
    "##### Student Solution"
   ]
  },
  {
   "cell_type": "code",
   "execution_count": 12,
   "metadata": {},
   "outputs": [
    {
     "name": "stdout",
     "output_type": "stream",
     "text": [
      "Firebrick\n"
     ]
    }
   ],
   "source": [
    "def predict_color(model, color_dict, test_color):\n",
    "\n",
    "    ## YOUR CODE HERE ## \n",
    "    # Predict the cluster for the test color\n",
    "    cluster = model.predict([test_color])[0]\n",
    "\n",
    "    # Find the color name corresponding to the predicted cluster\n",
    "    color_name = cluster_name_dict.get(cluster, \"Unknown\")\n",
    "    return color_name\n",
    "\n",
    "# Test the predict_color function with a sample color\n",
    "color1 = [200, 5, 5]  # approximately red\n",
    "predicted_color = predict_color(model=model, color_dict=color_dict, test_color=color1)\n",
    "\n",
    "print(predict_color(model=model, color_dict=color_dict, test_color=color1))"
   ]
  }
 ],
 "metadata": {
  "colab": {
   "name": "08 Kmeans Clustering.ipynb",
   "provenance": []
  },
  "kernelspec": {
   "display_name": "Python 3",
   "language": "python",
   "name": "python3"
  },
  "language_info": {
   "codemirror_mode": {
    "name": "ipython",
    "version": 3
   },
   "file_extension": ".py",
   "mimetype": "text/x-python",
   "name": "python",
   "nbconvert_exporter": "python",
   "pygments_lexer": "ipython3",
   "version": "3.9.7"
  }
 },
 "nbformat": 4,
 "nbformat_minor": 4
}
